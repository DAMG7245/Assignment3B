{
 "metadata": {
  "kernelspec": {
   "display_name": "Streamlit Notebook",
   "name": "streamlit"
  },
  "lastEditStatus": {
   "notebookId": "7it7xf4o4f2wbf3jzx4z",
   "authorId": "2048419569569",
   "authorName": "PRIYAV139",
   "authorEmail": "veerabomma.s@northeastern.edu",
   "sessionId": "10959f3a-64f2-43d3-a643-e4a0b6f04dfe",
   "lastEditTime": 1740539899910
  }
 },
 "nbformat_minor": 5,
 "nbformat": 4,
 "cells": [
  {
   "cell_type": "code",
   "id": "3775908f-ca36-4846-8f38-5adca39217f2",
   "metadata": {
    "language": "python",
    "name": "cell1"
   },
   "source": "import pandas as pd\nfrom pycoingecko import CoinGeckoAPI\nimport datetime\nimport time\n",
   "execution_count": null,
   "outputs": []
  }
 ]
}