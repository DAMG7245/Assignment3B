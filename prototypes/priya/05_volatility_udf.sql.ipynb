{
 "metadata": {
  "kernelspec": {
   "display_name": "Streamlit Notebook",
   "name": "streamlit"
  },
  "lastEditStatus": {
   "notebookId": "dl5efdvmtmrlxkhfs6ps",
   "authorId": "2048419569569",
   "authorName": "PRIYAV139",
   "authorEmail": "veerabomma.s@northeastern.edu",
   "sessionId": "ad8cf650-4224-4471-afbd-f94b5eb516d2",
   "lastEditTime": 1740725677460
  }
 },
 "nbformat_minor": 5,
 "nbformat": 4,
 "cells": [
  {
   "cell_type": "code",
   "id": "3775908f-ca36-4846-8f38-5adca39217f2",
   "metadata": {
    "language": "python",
    "name": "cell1"
   },
   "source": "# Import python packages\nimport streamlit as st\nimport pandas as pd\n\n# We can also use Snowpark for our analyses!\nfrom snowflake.snowpark.context import get_active_session\nsession = get_active_session()\n",
   "execution_count": null,
   "outputs": []
  },
  {
   "cell_type": "code",
   "id": "5180cb78-df9a-437c-a334-edc19bf4f176",
   "metadata": {
    "language": "sql",
    "name": "cell2"
   },
   "outputs": [],
   "source": "USE ROLE CRYPTO;\nUSE WAREHOUSE CRYPTO_DATA;\nUSE DATABASE CRYPTOCURRENCY;\nUSE SCHEMA HARMONIZED_CRYPTO;",
   "execution_count": null
  },
  {
   "cell_type": "code",
   "id": "1f9225d0-13b1-4b42-a819-371928883966",
   "metadata": {
    "language": "python",
    "name": "cell5",
    "collapsed": false
   },
   "outputs": [],
   "source": "#------------------------------------------------------------------------------\n# Cryptocurrency Data Engineering Pipeline\n# Script:       07_update_volatility_sp.py\n#------------------------------------------------------------------------------\n\n\n# from snowflake.snowpark import Session\n# import snowflake.snowpark.functions as F",
   "execution_count": null
  },
  {
   "cell_type": "code",
   "id": "09d005cb-103a-453c-a640-af850ababda2",
   "metadata": {
    "language": "python",
    "name": "cell3",
    "collapsed": false
   },
   "outputs": [],
   "source": "#------------------------------------------------------------------------------\n# Cryptocurrency Data Engineering Pipeline\n# Script:       07_update_volatility_sp.py\n#------------------------------------------------------------------------------\n\nfrom snowflake.snowpark import Session\nimport snowflake.snowpark.functions as F\n\ndef create_volatility_sp(session):\n    session.use_schema('HARMONIZED_CRYPTO')\n    \n    sp_sql = \"\"\"\n    CREATE OR REPLACE PROCEDURE UPDATE_VOLATILITY_SP()\n    RETURNS STRING\n    LANGUAGE PYTHON\n    RUNTIME_VERSION = '3.8'\n    HANDLER = 'update_volatility'\n    PACKAGES = ('numpy')\n    AS\n    $$\n    import snowflake.snowpark as snowpark\n    from snowflake.snowpark import functions as F\n    from snowflake.snowpark.window import Window\n    \n    def update_volatility(session):\n        # Read from harmonized table\n        df = session.table(\"HARMONIZED_CRYPTO.CRYPTO_HARMONIZED\")\n        \n        # Create a window spec for 10-day rolling window\n        window_spec = Window.partitionBy(\"crypto_symbol\").orderBy(\"date\").rowsBetween(-9, 0)\n        \n        # Create array of closing prices over the window\n        df = df.withColumn(\"close_array\", F.collect_list(\"close\").over(window_spec))\n        \n        # Apply volatility UDF\n        df = df.withColumn(\"volatility_10d\", \n                          F.call_udf(\"HARMONIZED_CRYPTO.CALCULATE_VOLATILITY_UDF\", F.col(\"close_array\")))\n        \n        # Update the harmonized table\n        df = df.select(\"crypto_symbol\", \"date\", \"volatility_10d\")\n        \n        # Create a temporary view for the update operation\n        df.create_or_replace_temporary_view(\"TEMP_VOLATILITY_VIEW\")\n       ",
   "execution_count": null
  },
  {
   "cell_type": "code",
   "id": "623d63df-1844-4cce-9862-7822d4f7737e",
   "metadata": {
    "language": "sql",
    "name": "cell4"
   },
   "outputs": [],
   "source": " \n        # Update the harmonized table\n        update_sql = \"\"\"\n        UPDATE HARMONIZED_CRYPTO.CRYPTO_HARMONIZED h\n        SET h.volatility_10d = t.volatility_10d\n        FROM TEMP_VOLATILITY_VIEW t\n        WHERE h.crypto_symbol = t.crypto_symbol\n        AND h.date = t.date\n        \"\"\"\n        session.sql(update_sql).collect()\n        \n        return \"Volatility updated successfully in harmonized table\"\n    $$\n    \"\"\"\n    session.sql(sp_sql).collect()\n    \n    return \"Stored procedure created successfully\"\n\n# For local debugging\nif __name__ == \"__main__\":\n    # Create a local Snowpark session\n    with Session.builder.getOrCreate() as session:\n        result = create_volatility_sp(session)\n        print(result)",
   "execution_count": null
  }
 ]
}