{
 "metadata": {
  "kernelspec": {
   "display_name": "Streamlit Notebook",
   "name": "streamlit"
  },
  "lastEditStatus": {
   "notebookId": "p6rsop2tsx73fauful7x",
   "authorId": "2048419569569",
   "authorName": "PRIYAV139",
   "authorEmail": "veerabomma.s@northeastern.edu",
   "sessionId": "4129f823-7708-4158-a57a-c442a477233c",
   "lastEditTime": 1740724730862
  }
 },
 "nbformat_minor": 5,
 "nbformat": 4,
 "cells": [
  {
   "cell_type": "code",
   "id": "3775908f-ca36-4846-8f38-5adca39217f2",
   "metadata": {
    "language": "python",
    "name": "cell1"
   },
   "source": "# Import python packages\nimport streamlit as st\nimport pandas as pd\n\n# We can also use Snowpark for our analyses!\nfrom snowflake.snowpark.context import get_active_session\nsession = get_active_session()\n",
   "execution_count": null,
   "outputs": []
  },
  {
   "cell_type": "code",
   "id": "8d50cbf4-0c8d-4950-86cb-114990437ac9",
   "metadata": {
    "language": "sql",
    "name": "cell2",
    "collapsed": false
   },
   "source": "---> set the Role\nUSE ROLE CRYPTO;\n\n---> set the Warehouse\nUSE WAREHOUSE CRYPTO_DATA;\n\n---> set the Database\nUSE DATABASE CRYPTOCURRENCY;\n\n---> set the Schema\n-- SET schema_name = CONCAT(current_user(), '_LOAD_SAMPLE_DATA_FROM_S3');\n-- USE SCHEMA IDENTIFIER($schema_name);",
   "execution_count": null,
   "outputs": []
  },
  {
   "cell_type": "code",
   "id": "7a5f9bac-2312-4bcc-bb05-c0147664aadb",
   "metadata": {
    "language": "sql",
    "name": "cell4",
    "collapsed": false
   },
   "outputs": [],
   "source": "-- Create schemas for different layers of the data pipeline\nCREATE SCHEMA IF NOT EXISTS RAW_CRYPTO;        -- For storing raw data\nCREATE SCHEMA IF NOT EXISTS HARMONIZED_CRYPTO; -- For cleaned and transformed data\nCREATE SCHEMA IF NOT EXISTS ANALYTICS_CRYPTO;",
   "execution_count": null
  },
  {
   "cell_type": "code",
   "id": "3d93e680-b7e0-4596-8b39-13e43b7bdcc7",
   "metadata": {
    "language": "sql",
    "name": "cell5",
    "collapsed": false
   },
   "outputs": [],
   "source": "CREATE OR REPLACE TABLE RAW_CRYPTO.BTC_RAW_DAILY (\n    date DATE,\n    open FLOAT,\n    high FLOAT,\n    low FLOAT,\n    close FLOAT,\n    volume FLOAT,\n    adjclose FLOAT,\n    inserted_timestamp TIMESTAMP_NTZ DEFAULT CURRENT_TIMESTAMP()\n);\nCREATE OR REPLACE TABLE RAW_CRYPTO.ETH_RAW_DAILY (\n    date DATE,\n    open FLOAT,\n    high FLOAT,\n    low FLOAT,\n    close FLOAT,\n    volume FLOAT,\n    adjclose FLOAT,\n    inserted_timestamp TIMESTAMP_NTZ DEFAULT CURRENT_TIMESTAMP()\n);\n\nCREATE OR REPLACE TABLE RAW_CRYPTO.DOGE_RAW_DAILY (\n    date DATE,\n    open FLOAT,\n    high FLOAT,\n    low FLOAT,\n    close FLOAT,\n    volume FLOAT,\n    adjclose FLOAT,\n    inserted_timestamp TIMESTAMP_NTZ DEFAULT CURRENT_TIMESTAMP()\n);\n",
   "execution_count": null
  },
  {
   "cell_type": "code",
   "id": "55dd7117-da6c-41c6-bf63-8c39cc8d1824",
   "metadata": {
    "language": "sql",
    "name": "cell3",
    "collapsed": false
   },
   "outputs": [],
   "source": "\n\n-- Create tables for returns data\nCREATE OR REPLACE TABLE RAW_CRYPTO.BTC_DAILY_RETURNS (\n    date DATE,\n    daily_return FLOAT,\n    inserted_timestamp TIMESTAMP_NTZ DEFAULT CURRENT_TIMESTAMP()\n);\n\nCREATE OR REPLACE TABLE RAW_CRYPTO.ETH_DAILY_RETURNS (\n    date DATE,\n    daily_return FLOAT,\n    inserted_timestamp TIMESTAMP_NTZ DEFAULT CURRENT_TIMESTAMP()\n);\n\nCREATE OR REPLACE TABLE RAW_CRYPTO.DOGE_DAILY_RETURNS (\n    date DATE,\n    daily_return FLOAT,\n    inserted_timestamp TIMESTAMP_NTZ DEFAULT CURRENT_TIMESTAMP()\n);\n\n-- Create tables for monthly returns\nCREATE OR REPLACE TABLE RAW_CRYPTO.BTC_MONTHLY_RETURNS (\n    date DATE,\n    monthly_return FLOAT,\n    inserted_timestamp TIMESTAMP_NTZ DEFAULT CURRENT_TIMESTAMP()\n);\n\nCREATE OR REPLACE TABLE RAW_CRYPTO.ETH_MONTHLY_RETURNS (\n    date DATE,\n    monthly_return FLOAT,\n    inserted_timestamp TIMESTAMP_NTZ DEFAULT CURRENT_TIMESTAMP()\n);\n\nCREATE OR REPLACE TABLE RAW_CRYPTO.DOGE_MONTHLY_RETURNS (\n    date DATE,\n    monthly_return FLOAT,\n    inserted_timestamp TIMESTAMP_NTZ DEFAULT CURRENT_TIMESTAMP()\n);\n\n",
   "execution_count": null
  },
  {
   "cell_type": "code",
   "id": "21a67aed-21d1-40bc-8f85-d1586d92fb38",
   "metadata": {
    "language": "sql",
    "name": "cell9",
    "collapsed": false
   },
   "outputs": [],
   "source": "USE DATABASE CRYPTOCURRENCY;  -- Make sure you are in the correct database\nUSE SCHEMA DATA_LOAD;       -- Or DATA_LOAD if that’s where you created the stage\n",
   "execution_count": null
  },
  {
   "cell_type": "code",
   "id": "4e0b4bf0-dfc8-4e37-9745-dedf2e2abb8f",
   "metadata": {
    "language": "sql",
    "name": "cell7",
    "collapsed": false
   },
   "outputs": [],
   "source": "SELECT CURRENT_SCHEMA();\n",
   "execution_count": null
  },
  {
   "cell_type": "code",
   "id": "10278af3-b9b3-4121-9481-90dc13549cdb",
   "metadata": {
    "language": "sql",
    "name": "cell6",
    "collapsed": false
   },
   "outputs": [],
   "source": "-- Load BTC data from S3 stage\nCOPY INTO RAW_CRYPTO.BTC_RAW_DAILY (date, open, high, low, close, volume, adjclose)\nFROM @CRYPTO_S3_Stage/BTC_raw_daily.csv\nFILE_FORMAT = (TYPE = CSV SKIP_HEADER = 1);\n\n",
   "execution_count": null
  },
  {
   "cell_type": "code",
   "id": "2b198426-dfd8-4bd3-bd9d-c4e559814de0",
   "metadata": {
    "language": "sql",
    "name": "cell8",
    "collapsed": false
   },
   "outputs": [],
   "source": "COPY INTO RAW_CRYPTO.BTC_DAILY_RETURNS (date, daily_return)\nFROM @CRYPTO_S3_Stage/BTC_daily_returns.csv\nFILE_FORMAT = (TYPE = CSV SKIP_HEADER = 1);\n\n",
   "execution_count": null
  },
  {
   "cell_type": "code",
   "id": "8763343a-7bb4-451d-916c-c230f0b73dcd",
   "metadata": {
    "language": "sql",
    "name": "cell10",
    "collapsed": false
   },
   "outputs": [],
   "source": "COPY INTO RAW_CRYPTO.BTC_MONTHLY_RETURNS (date, monthly_return)\nFROM @CRYPTO_S3_Stage/BTC_monthly_returns.csv\nFILE_FORMAT = (TYPE = CSV SKIP_HEADER = 1);",
   "execution_count": null
  },
  {
   "cell_type": "code",
   "id": "4417315a-16a4-49f5-96aa-04f3e148de20",
   "metadata": {
    "language": "sql",
    "name": "cell11",
    "collapsed": false
   },
   "outputs": [],
   "source": "-- Load ETH data\nCOPY INTO RAW_CRYPTO.ETH_RAW_DAILY (date, open, high, low, close, volume, adjclose)\nFROM @CRYPTO_S3_Stage/ETH_raw_daily.csv\nFILE_FORMAT = (TYPE = CSV SKIP_HEADER = 1);",
   "execution_count": null
  },
  {
   "cell_type": "code",
   "id": "5b1f87b5-0d6a-4065-bce1-4e5567e9f3fb",
   "metadata": {
    "language": "sql",
    "name": "cell12",
    "collapsed": false
   },
   "outputs": [],
   "source": "COPY INTO RAW_CRYPTO.ETH_DAILY_RETURNS (date, daily_return)\nFROM @CRYPTO_S3_Stage/ETH_daily_returns.csv\nFILE_FORMAT = (TYPE = CSV SKIP_HEADER = 1);",
   "execution_count": null
  },
  {
   "cell_type": "code",
   "id": "e28374a5-c2cf-4e6d-971a-be76eaf7c5b1",
   "metadata": {
    "language": "sql",
    "name": "cell13",
    "collapsed": false
   },
   "outputs": [],
   "source": "COPY INTO RAW_CRYPTO.ETH_MONTHLY_RETURNS (date, monthly_return)\nFROM @CRYPTO_S3_Stage/ETH_monthly_returns.csv\nFILE_FORMAT = (TYPE = CSV SKIP_HEADER = 1);",
   "execution_count": null
  },
  {
   "cell_type": "code",
   "id": "905ac1a5-32ff-4d4e-9d88-c4cd11f9faa1",
   "metadata": {
    "language": "sql",
    "name": "cell14",
    "collapsed": false
   },
   "outputs": [],
   "source": "COPY INTO RAW_CRYPTO.DOGE_RAW_DAILY (date, open, high, low, close, volume, adjclose)\nFROM @CRYPTO_S3_Stage/DOGE_raw_daily.csv\nFILE_FORMAT = (TYPE = CSV SKIP_HEADER = 1);",
   "execution_count": null
  },
  {
   "cell_type": "code",
   "id": "cc8d4473-127c-4505-9092-ec2a9d9fc85b",
   "metadata": {
    "language": "sql",
    "name": "cell15",
    "collapsed": false
   },
   "outputs": [],
   "source": "COPY INTO RAW_CRYPTO.DOGE_DAILY_RETURNS (date, daily_return)\nFROM @CRYPTO_S3_Stage/DOGE_daily_returns.csv\nFILE_FORMAT = (TYPE = CSV SKIP_HEADER = 1);\n",
   "execution_count": null
  },
  {
   "cell_type": "code",
   "id": "5fc18559-415f-47c0-8a4d-fdfecc666ff6",
   "metadata": {
    "language": "sql",
    "name": "cell16"
   },
   "outputs": [],
   "source": "COPY INTO RAW_CRYPTO.DOGE_MONTHLY_RETURNS (date, monthly_return)\nFROM @CRYPTO_S3_Stage/DOGE_monthly_returns.csv\nFILE_FORMAT = (TYPE = CSV SKIP_HEADER = 1);",
   "execution_count": null
  }
 ]
}