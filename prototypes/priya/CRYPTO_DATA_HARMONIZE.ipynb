{
 "metadata": {
  "kernelspec": {
   "display_name": "Streamlit Notebook",
   "name": "streamlit"
  },
  "lastEditStatus": {
   "notebookId": "llmi6cjar5ldb7i4atmu",
   "authorId": "2048419569569",
   "authorName": "PRIYAV139",
   "authorEmail": "veerabomma.s@northeastern.edu",
   "sessionId": "73f23b80-84e3-4160-9bc2-1cadca51dddc",
   "lastEditTime": 1740724006023
  }
 },
 "nbformat_minor": 5,
 "nbformat": 4,
 "cells": [
  {
   "cell_type": "code",
   "id": "3775908f-ca36-4846-8f38-5adca39217f2",
   "metadata": {
    "language": "python",
    "name": "cell1"
   },
   "source": "# Import python packages\nimport streamlit as st\nimport pandas as pd\n\n# We can also use Snowpark for our analyses!\nfrom snowflake.snowpark.context import get_active_session\nsession = get_active_session()\n",
   "execution_count": null,
   "outputs": []
  },
  {
   "cell_type": "code",
   "id": "f1d99c15-4335-44dc-b51a-c5d218f75b67",
   "metadata": {
    "language": "sql",
    "name": "cell2",
    "collapsed": false
   },
   "outputs": [],
   "source": "---> set the Role\nUSE ROLE CRYPTO;\n\n---> set the Warehouse\nUSE WAREHOUSE CRYPTO_DATA;\n\n---> set the Database\nUSE DATABASE CRYPTOCURRENCY;\n",
   "execution_count": null
  },
  {
   "cell_type": "code",
   "id": "f68842f4-2cb4-4b99-b04c-fddf784e20eb",
   "metadata": {
    "language": "sql",
    "name": "cell3",
    "collapsed": false
   },
   "outputs": [],
   "source": "-- Create streams to track changes for incremental processing\nCREATE OR REPLACE STREAM RAW_CRYPTO.BTC_RAW_STREAM ON TABLE RAW_CRYPTO.BTC_RAW_DAILY;\nCREATE OR REPLACE STREAM RAW_CRYPTO.ETH_RAW_STREAM ON TABLE RAW_CRYPTO.ETH_RAW_DAILY;\nCREATE OR REPLACE STREAM RAW_CRYPTO.DOGE_RAW_STREAM ON TABLE RAW_CRYPTO.DOGE_RAW_DAILY;",
   "execution_count": null
  },
  {
   "cell_type": "code",
   "id": "592dba06-11a7-4807-bb32-6490831a98d7",
   "metadata": {
    "language": "sql",
    "name": "cell4",
    "collapsed": false
   },
   "outputs": [],
   "source": "SHOW STREAMS IN SCHEMA CRYPTOCURRENCY.RAW_CRYPTO;  --test\n\nSELECT * FROM RAW_CRYPTO.BTC_RAW_DAILY LIMIT 5;  --test\n\nSELECT * FROM RAW_CRYPTO.ETH_RAW_DAILY LIMIT 5;   --test\n\nSELECT * FROM RAW_CRYPTO.DOGE_RAW_DAILY LIMIT 5;   --test",
   "execution_count": null
  },
  {
   "cell_type": "code",
   "id": "7669e678-c763-4098-b85e-2f4c4a204a9c",
   "metadata": {
    "language": "sql",
    "name": "cell5",
    "collapsed": false
   },
   "outputs": [],
   "source": "INSERT INTO HARMONIZED_CRYPTO.CRYPTO_HARMONIZED (\n    crypto_symbol, date, open, high, low, close, volume, adjclose, daily_return\n)\nSELECT \n    'BTC' AS crypto_symbol,\n    r.date,\n    r.open,\n    r.high, \n    r.low,\n    r.close,\n    r.volume,\n    r.adjclose,\n    d.daily_return\nFROM RAW_CRYPTO.BTC_RAW_DAILY r\nLEFT JOIN RAW_CRYPTO.BTC_DAILY_RETURNS d ON r.date = d.date\nWHERE r.date >= '2020-01-01';",
   "execution_count": null
  },
  {
   "cell_type": "code",
   "id": "3261c804-497e-4de0-b160-3698b9375e56",
   "metadata": {
    "language": "sql",
    "name": "cell6",
    "collapsed": false
   },
   "outputs": [],
   "source": "INSERT INTO HARMONIZED_CRYPTO.CRYPTO_HARMONIZED (\n    crypto_symbol, date, open, high, low, close, volume, adjclose, daily_return\n)\nSELECT \n    'ETH' AS crypto_symbol,\n    r.date,\n    r.open,\n    r.high, \n    r.low,\n    r.close,\n    r.volume,\n    r.adjclose,\n    d.daily_return\nFROM RAW_CRYPTO.ETH_RAW_DAILY r\nLEFT JOIN RAW_CRYPTO.ETH_DAILY_RETURNS d ON r.date = d.date\nWHERE r.date >= '2020-01-01';\n",
   "execution_count": null
  },
  {
   "cell_type": "code",
   "id": "7f028cf5-f288-4da9-be69-51a33ed80f62",
   "metadata": {
    "language": "sql",
    "name": "cell7",
    "collapsed": false
   },
   "outputs": [],
   "source": "INSERT INTO HARMONIZED_CRYPTO.CRYPTO_HARMONIZED (\n    crypto_symbol, date, open, high, low, close, volume, adjclose, daily_return\n)\nSELECT \n    'DOGE' AS crypto_symbol,\n    r.date,\n    r.open,\n    r.high, \n    r.low,\n    r.close,\n    r.volume,\n    r.adjclose,\n    d.daily_return\nFROM RAW_CRYPTO.DOGE_RAW_DAILY r\nLEFT JOIN RAW_CRYPTO.DOGE_DAILY_RETURNS d ON r.date = d.date\nWHERE r.date >= '2020-01-01';",
   "execution_count": null
  },
  {
   "cell_type": "code",
   "id": "4a963f8b-8d11-447c-be7d-ba5805a8e84e",
   "metadata": {
    "language": "sql",
    "name": "cell8",
    "collapsed": false
   },
   "outputs": [],
   "source": "-- Create stream to track changes in the harmonized table\nCREATE OR REPLACE STREAM HARMONIZED_CRYPTO.CRYPTO_HARMONIZED_STREAM \nON TABLE HARMONIZED_CRYPTO.CRYPTO_HARMONIZED\nSHOW_INITIAL_ROWS = TRUE;",
   "execution_count": null
  },
  {
   "cell_type": "code",
   "id": "a03d91e5-1fd5-47f8-9dc1-3843341cff8f",
   "metadata": {
    "language": "sql",
    "name": "cell9",
    "collapsed": false
   },
   "outputs": [],
   "source": "CREATE OR REPLACE FUNCTION HARMONIZED_CRYPTO.CALCULATE_VOLATILITY_UDF(prices ARRAY)\nRETURNS FLOAT\nLANGUAGE PYTHON\nRUNTIME_VERSION = '3.8'\nHANDLER = 'calculate_volatility'\nPACKAGES = ('numpy')\nAS\n$$\nimport numpy as np\n\ndef calculate_volatility(prices):\n    if prices is None or len(prices) < 2:\n        return None\n    \n    # Calculate daily returns\n    prices_array = np.array(prices)\n    returns = np.diff(prices_array) / prices_array[:-1]\n    \n    # Calculate standard deviation of returns (volatility)\n    volatility = np.std(returns) * 100  # Convert to percentage\n    \n    return float(volatility)\n$$;",
   "execution_count": null
  }
 ]
}