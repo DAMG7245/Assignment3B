{
 "cells": [
  {
   "cell_type": "markdown",
   "metadata": {},
   "source": [
    "Crypto Data Loading with Snowpark\n",
    "\n",
    "#------------------------------------------------------------------------------\n",
    "# Data Engineering with Snowpark for Cryptocurrency Data\n",
    "# Script:       crypto_data_loader.py\n",
    "# Last Updated: February 27, 2025\n",
    "#------------------------------------------------------------------------------"
   ]
  },
  {
   "cell_type": "code",
   "execution_count": null,
   "metadata": {
    "vscode": {
     "languageId": "plaintext"
    }
   },
   "outputs": [],
   "source": [
    "# Define our crypto tables and corresponding file names\n",
    "CRYPTO_TABLES = {\n",
    "    'BTC': 'BTC_raw_daily.csv',\n",
    "    'DOGE': 'DOGE_raw_daily.csv',\n",
    "    'ETH': 'ETH_raw_daily.csv'\n",
    "}"
   ]
  },
  {
   "cell_type": "code",
   "execution_count": null,
   "metadata": {
    "vscode": {
     "languageId": "plaintext"
    }
   },
   "outputs": [],
   "source": [
    "# SNOWFLAKE ADVANTAGE: Schema detection\n",
    "# SNOWFLAKE ADVANTAGE: Data ingestion with COPY\n",
    "def load_raw_table(session, table_name, file_name, schema=\"RAW_CRYPTO\"):\n",
    "    \"\"\"\n",
    "    Load data from S3 stage into Snowflake tables\n",
    "    \n",
    "    Parameters:\n",
    "    session: Snowpark session\n",
    "    table_name: Table name (BTC, DOGE, ETH)\n",
    "    file_name: File name in the stage (e.g., BTC_raw_daily.csv)\n",
    "    schema: Schema name\n",
    "    \"\"\"\n",
    "    print(f\"Loading {table_name} from {file_name}\")\n",
    "    session.use_schema(schema)\n",
    "    \n",
    "    # Define the stage path to the file\n",
    "    stage_path = f\"@CRYPTO_RAW_STAGE/raw_data/{file_name}\"\n",
    "    \n",
    "    # Read the CSV file from the stage\n",
    "    df = session.read.option(\"header\", True) \\\n",
    "                     .option(\"infer_schema\", True) \\\n",
    "                     .csv(stage_path)\n",
    "    \n",
    "    # Ensure we have the correct column names and data types for our schema\n",
    "    # Convert date string to DATE type\n",
    "    df = df.with_column(\"date\", F.to_date(df[\"date\"]))\n",
    "    \n",
    "    # Convert numeric columns to FLOAT\n",
    "    for col in [\"open\", \"high\", \"low\", \"close\", \"volume\", \"adjclose\"]:\n",
    "        df = df.with_column(col, F.to_double(df[col]))\n",
    "    \n",
    "    # Copy data into table\n",
    "    df.copy_into_table(f\"{table_name}\")\n",
    "    \n",
    "    print(f\"Successfully loaded {table_name}\")\n",
    "    \n",
    "    # Return row count\n",
    "    return session.table(f\"{schema}.{table_name}\").count()\n"
   ]
  },
  {
   "cell_type": "code",
   "execution_count": null,
   "metadata": {
    "vscode": {
     "languageId": "plaintext"
    }
   },
   "outputs": [],
   "source": [
    "# SNOWFLAKE ADVANTAGE: Warehouse elasticity (dynamic scaling)\n",
    "def load_all_crypto_tables(session, warehouse_name=\"COMPUTE_WH\"):\n",
    "    \"\"\"\n",
    "    Load all cryptocurrency tables with warehouse scaling\n",
    "    \n",
    "    Parameters:\n",
    "    session: Snowpark session\n",
    "    warehouse_name: The name of the Snowflake warehouse to use\n",
    "    \"\"\"\n",
    "    # Scale up warehouse for faster loading\n",
    "    session.sql(f\"ALTER WAREHOUSE {warehouse_name} SET WAREHOUSE_SIZE = LARGE WAIT_FOR_COMPLETION = TRUE\").collect()\n",
    "    \n",
    "    try:\n",
    "        # Create schema if it doesn't exist\n",
    "        session.sql(\"CREATE SCHEMA IF NOT EXISTS RAW_CRYPTO\").collect()\n",
    "        \n",
    "        # Create tables if they don't exist\n",
    "        for table_name in CRYPTO_TABLES.keys():\n",
    "            session.sql(f\"\"\"\n",
    "            CREATE TABLE IF NOT EXISTS RAW_CRYPTO.{table_name} (\n",
    "                date DATE PRIMARY KEY,\n",
    "                open FLOAT,\n",
    "                high FLOAT,\n",
    "                low FLOAT,\n",
    "                close FLOAT,\n",
    "                volume FLOAT,\n",
    "                adjclose FLOAT\n",
    "            )\n",
    "            \"\"\").collect()\n",
    "        \n",
    "        # Load data for each table\n",
    "        results = {}\n",
    "        for table_name, file_name in CRYPTO_TABLES.items():\n",
    "            row_count = load_raw_table(session, table_name, file_name)\n",
    "            results[table_name] = row_count\n",
    "        \n",
    "        return results\n",
    "            \n",
    "    finally:\n",
    "        # Scale down warehouse when done\n",
    "        session.sql(f\"ALTER WAREHOUSE {warehouse_name} SET WAREHOUSE_SIZE = XSMALL\").collect()\n"
   ]
  },
  {
   "cell_type": "code",
   "execution_count": null,
   "metadata": {
    "vscode": {
     "languageId": "plaintext"
    }
   },
   "outputs": [],
   "source": [
    "def validate_crypto_tables(session):\n",
    "    \"\"\"\n",
    "    Validate the loaded data\n",
    "    \n",
    "    Parameters:\n",
    "    session: Snowpark session\n",
    "    \"\"\"\n",
    "    print(\"Validating loaded tables:\")\n",
    "    for table_name in CRYPTO_TABLES.keys():\n",
    "        table_ref = session.table(f'RAW_CRYPTO.{table_name}')\n",
    "        row_count = table_ref.count()\n",
    "        date_range = session.sql(f\"SELECT MIN(date) as min_date, MAX(date) as max_date FROM RAW_CRYPTO.{table_name}\").collect()[0]\n",
    "        \n",
    "        print(f'{table_name}: \\n\\tColumns: {table_ref.columns}\\n\\tRow count: {row_count}\\n\\tDate range: {date_range[\"MIN_DATE\"]} to {date_range[\"MAX_DATE\"]}\\n')\n",
    "        \n",
    "        # Show sample data\n",
    "        print(f\"Sample data for {table_name}:\")\n",
    "        sample_data = table_ref.limit(5).to_pandas()\n",
    "        print(sample_data)\n",
    "        print(\"\\n\")\n"
   ]
  },
  {
   "cell_type": "code",
   "execution_count": null,
   "metadata": {
    "vscode": {
     "languageId": "plaintext"
    }
   },
   "outputs": [],
   "source": [
    "# Main execution function\n",
    "def main(session):\n",
    "    \"\"\"\n",
    "    Main function to execute the data loading process\n",
    "    \n",
    "    Parameters:\n",
    "    session: Snowpark session\n",
    "    \"\"\"\n",
    "    print(\"Starting cryptocurrency data loading process...\")\n",
    "    \n",
    "    # Use correct role\n",
    "    session.sql(\"USE ROLE ACCOUNTADMIN\").collect()\n",
    "    \n",
    "    # Load all tables\n",
    "    results = load_all_crypto_tables(session)\n",
    "    print(f\"Data loading complete! Rows loaded: {results}\")\n",
    "    \n",
    "    # Validate loaded tables\n",
    "    validate_crypto_tables(session)\n",
    "    \n",
    "    print(\"Process completed successfully!\")\n",
    "\n",
    "\n",
    "# For executing from a Snowflake notebook\n",
    "if __name__ == \"__main__\":\n",
    "    # Create a Snowpark session\n",
    "    with Session.builder.getOrCreate() as session:\n",
    "        main(session)"
   ]
  }
 ],
 "metadata": {
  "language_info": {
   "name": "python"
  }
 },
 "nbformat": 4,
 "nbformat_minor": 2
}
