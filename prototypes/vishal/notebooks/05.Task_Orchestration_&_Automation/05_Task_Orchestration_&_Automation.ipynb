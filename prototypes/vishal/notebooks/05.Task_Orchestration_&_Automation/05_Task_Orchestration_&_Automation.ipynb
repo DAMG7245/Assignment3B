{
 "metadata": {
  "kernelspec": {
   "display_name": "Snowpark",
   "language": "python",
   "name": "snowpark"
  },
  "language_info": {
   "codemirror_mode": {
    "name": "ipython",
    "version": 3
   },
   "file_extension": ".py",
   "mimetype": "text/x-python",
   "name": "python",
   "nbconvert_exporter": "python",
   "pygments_lexer": "ipython3",
   "version": "3.8.15"
  },
  "lastEditStatus": {
   "notebookId": "7wnpkzcugmbpj5wpty7m",
   "authorId": "726488193010",
   "authorName": "VISHALPRASANNA11",
   "authorEmail": "prasanna.vi@northeastern.edu",
   "sessionId": "9d9a4aa2-41af-4c1b-afe5-af1bcf33f819",
   "lastEditTime": 1740775832555
  }
 },
 "nbformat_minor": 4,
 "nbformat": 4,
 "cells": [
  {
   "cell_type": "markdown",
   "metadata": {
    "name": "cell1"
   },
   "source": [
    "# Cryptocurrency Data Pipeline - Task Orchestration & Automation\n",
    "\n",
    "This notebook implements the task orchestration layer for the cryptocurrency data pipeline, automating the flow from data ingestion through harmonization to analytics."
   ],
   "id": "ce110000-1111-2222-3333-ffffff000000"
  },
  {
   "cell_type": "markdown",
   "metadata": {
    "name": "cell2"
   },
   "source": [
    "## Setup Environment"
   ],
   "id": "ce110000-1111-2222-3333-ffffff000001"
  },
  {
   "cell_type": "code",
   "id": "21e1d693-f727-4a80-84ba-d620033dd778",
   "metadata": {
    "language": "python",
    "name": "cell27",
    "collapsed": false
   },
   "outputs": [],
   "source": "from snowflake.snowpark import Session\nsession = Session.builder.getOrCreate()",
   "execution_count": null
  },
  {
   "cell_type": "code",
   "execution_count": null,
   "metadata": {
    "name": "cell3",
    "language": "sql",
    "collapsed": false
   },
   "source": "-- %%sql\nUSE ROLE CRYPTO_ROLE;\nUSE WAREHOUSE CRYPTO_WH;\nUSE SCHEMA CRYPTO_DB.HARMONIZED_CRYPTO;",
   "id": "ce110000-1111-2222-3333-ffffff000002",
   "outputs": []
  },
  {
   "cell_type": "markdown",
   "metadata": {
    "name": "cell4"
   },
   "source": [
    "## Create Tasks for Pipeline Automation\n",
    "\n",
    "### 1. Data Ingestion Task - Runs every 4 hours to fetch new data"
   ],
   "id": "ce110000-1111-2222-3333-ffffff000003"
  },
  {
   "cell_type": "code",
   "execution_count": null,
   "metadata": {
    "name": "cell5",
    "language": "sql",
    "collapsed": false
   },
   "source": "-- %%sql\nCREATE OR REPLACE TASK CRYPTO_DB.HARMONIZED_CRYPTO.LOAD_CRYPTO_TASK\n    WAREHOUSE = CRYPTO_WH\n    SCHEDULE = 'USING CRON 0 */4 * * * UTC'  -- Run every 4 hours\nAS\nCALL CRYPTO_DB.HARMONIZED_CRYPTO.LOAD_CRYPTO_DATA_SP();",
   "id": "ce110000-1111-2222-3333-ffffff000004",
   "outputs": []
  },
  {
   "cell_type": "markdown",
   "metadata": {
    "name": "cell6"
   },
   "source": [
    "### 2. Create Task for Data Harmonization - Triggered when new data arrives"
   ],
   "id": "ce110000-1111-2222-3333-ffffff000005"
  },
  {
   "cell_type": "code",
   "execution_count": null,
   "metadata": {
    "name": "cell7",
    "language": "sql",
    "collapsed": false
   },
   "source": "-- %%sql\nCREATE OR REPLACE TASK CRYPTO_DB.HARMONIZED_CRYPTO.HARMONIZE_CRYPTO_TASK\n    WAREHOUSE = CRYPTO_WH\n    AFTER CRYPTO_DB.HARMONIZED_CRYPTO.LOAD_CRYPTO_TASK\n    WHEN SYSTEM$STREAM_HAS_DATA('CRYPTO_DB.HARMONIZED_CRYPTO.RAW_CRYPTO_STREAM')\nAS\nCALL CRYPTO_DB.HARMONIZED_CRYPTO.HARMONIZE_CRYPTO_DATA_SP();",
   "id": "ce110000-1111-2222-3333-ffffff000006",
   "outputs": []
  },
  {
   "cell_type": "markdown",
   "metadata": {
    "name": "cell8"
   },
   "source": [
    "### 3. Create Task to Update Analytics Tables - Runs after harmonization completes"
   ],
   "id": "ce110000-1111-2222-3333-ffffff000007"
  },
  {
   "cell_type": "code",
   "execution_count": null,
   "metadata": {
    "name": "cell9",
    "language": "sql",
    "collapsed": false
   },
   "source": "USE ROLE CRYPTO_ROLE;\nCREATE OR REPLACE TASK CRYPTO_DB.HARMONIZED_CRYPTO.UPDATE_CRYPTO_METRICS_TASK\n    WAREHOUSE = CRYPTO_WH\n    AFTER CRYPTO_DB.HARMONIZED_CRYPTO.HARMONIZE_CRYPTO_TASK\n    WHEN SYSTEM$STREAM_HAS_DATA('CRYPTO_DB.HARMONIZED_CRYPTO.CRYPTO_HARMONIZED_STREAM')\nAS\nCALL CRYPTO_DB.ANALYTICS_CRYPTO.UPDATE_CRYPTO_ANALYTICS();",
   "id": "ce110000-1111-2222-3333-ffffff000008",
   "outputs": []
  },
  {
   "cell_type": "markdown",
   "metadata": {
    "name": "cell10"
   },
   "source": [
    "## Set Up Change Tracking with Streams\n",
    "\n",
    "Streams track changes in tables to trigger downstream processes only when new data exists."
   ],
   "id": "ce110000-1111-2222-3333-ffffff000009"
  },
  {
   "cell_type": "code",
   "execution_count": null,
   "metadata": {
    "name": "cell11",
    "language": "sql",
    "collapsed": false
   },
   "source": "-- Create a stream on the harmonized data for change tracking\nUSE ROLE CRYPTO_ROLE;\nCREATE OR REPLACE STREAM CRYPTO_DB.HARMONIZED_CRYPTO.CRYPTO_HARMONIZED_STREAM\nON TABLE CRYPTO_DB.HARMONIZED_CRYPTO.CRYPTO_HARMONIZED;",
   "id": "ce110000-1111-2222-3333-ffffff000010",
   "outputs": []
  },
  {
   "cell_type": "code",
   "id": "35408c98-c701-4039-917e-b2f008c01903",
   "metadata": {
    "language": "sql",
    "name": "cell26"
   },
   "outputs": [],
   "source": "SHOW TABLES IN SCHEMA CRYPTO_DB.HARMONIZED_CRYPTO;",
   "execution_count": null
  },
  {
   "cell_type": "code",
   "execution_count": null,
   "metadata": {
    "name": "cell12",
    "language": "sql",
    "collapsed": false
   },
   "source": "-- Create stream for BTC (already done)\nCREATE OR REPLACE STREAM CRYPTO_DB.HARMONIZED_CRYPTO.RAW_CRYPTO_STREAM_BTC\nON TABLE CRYPTO_DB.RAW_CRYPTO.BTC;\n\n-- Create stream for ETH\nCREATE OR REPLACE STREAM CRYPTO_DB.HARMONIZED_CRYPTO.RAW_CRYPTO_STREAM_ETH\nON TABLE CRYPTO_DB.RAW_CRYPTO.ETH;\n\n-- Create stream for DOGE\nCREATE OR REPLACE STREAM CRYPTO_DB.HARMONIZED_CRYPTO.RAW_CRYPTO_STREAM_DOGE\nON TABLE CRYPTO_DB.RAW_CRYPTO.DOGE;",
   "id": "ce110000-1111-2222-3333-ffffff000011",
   "outputs": []
  },
  {
   "cell_type": "markdown",
   "metadata": {
    "name": "cell13"
   },
   "source": [
    "## Activate the Automation Pipeline\n",
    "\n",
    "Resume all tasks to start the automation workflow. Tasks are resumed in reverse order of their dependency chain."
   ],
   "id": "ce110000-1111-2222-3333-ffffff000012"
  },
  {
   "cell_type": "code",
   "execution_count": null,
   "metadata": {
    "name": "cell14",
    "language": "sql",
    "collapsed": false
   },
   "source": "-- %%sql\n-- %%sql\nALTER TASK CRYPTO_DB.HARMONIZED_CRYPTO.UPDATE_CRYPTO_METRICS_TASK RESUME;\nALTER TASK CRYPTO_DB.HARMONIZED_CRYPTO.HARMONIZE_CRYPTO_TASK RESUME;\nALTER TASK CRYPTO_DB.HARMONIZED_CRYPTO.LOAD_CRYPTO_TASK RESUME;",
   "id": "ce110000-1111-2222-3333-ffffff000013",
   "outputs": []
  },
  {
   "cell_type": "markdown",
   "metadata": {
    "name": "cell15"
   },
   "source": [
    "## Task Monitoring and Observability\n",
    "\n",
    "### Check Recent Task Execution History"
   ],
   "id": "ce110000-1111-2222-3333-ffffff000014"
  },
  {
   "cell_type": "code",
   "execution_count": null,
   "metadata": {
    "name": "cell16",
    "language": "python",
    "collapsed": false
   },
   "source": [
    "task_history = session.sql(\"\"\"\n",
    "SELECT *\n",
    "FROM TABLE(INFORMATION_SCHEMA.TASK_HISTORY(\n",
    "    SCHEDULED_TIME_RANGE_START=>DATEADD('DAY',-1,CURRENT_TIMESTAMP()),\n",
    "    RESULT_LIMIT => 100))\n",
    "ORDER BY SCHEDULED_TIME DESC\n",
    "\"\"\")\n",
    "\n",
    "task_history.show()"
   ],
   "id": "ce110000-1111-2222-3333-ffffff000015",
   "outputs": []
  },
  {
   "cell_type": "markdown",
   "metadata": {
    "name": "cell17"
   },
   "source": [
    "### View Task Dependency Graph"
   ],
   "id": "ce110000-1111-2222-3333-ffffff000016"
  },
  {
   "cell_type": "code",
   "execution_count": null,
   "metadata": {
    "name": "cell18",
    "language": "sql",
    "collapsed": false
   },
   "source": "\nSELECT *\nFROM TABLE(INFORMATION_SCHEMA.CURRENT_TASK_GRAPHS())\nORDER BY SCHEDULED_TIME;",
   "id": "ce110000-1111-2222-3333-ffffff000017",
   "outputs": []
  },
  {
   "cell_type": "markdown",
   "metadata": {
    "name": "cell19"
   },
   "source": [
    "## Create Pipeline Health Dashboard\n",
    "\n",
    "This dashboard view provides insights into both task performance and data freshness"
   ],
   "id": "ce110000-1111-2222-3333-ffffff000018"
  },
  {
   "cell_type": "code",
   "execution_count": null,
   "metadata": {
    "name": "cell20",
    "language": "sql",
    "collapsed": false
   },
   "source": "\nCREATE OR REPLACE VIEW CRYPTO_DB.ANALYTICS_CRYPTO.PIPELINE_HEALTH_DASHBOARD AS\nWITH task_stats AS (\n    SELECT\n        NAME as task_name,\n        COUNT(*) as total_runs,\n        SUM(CASE WHEN STATE = 'SUCCEEDED' THEN 1 ELSE 0 END) as successful_runs,\n        SUM(CASE WHEN STATE = 'FAILED' THEN 1 ELSE 0 END) as failed_runs,\n        MAX(CASE WHEN STATE = 'SUCCEEDED' THEN COMPLETED_TIME ELSE NULL END) as last_successful_run,\n        MAX(CASE WHEN STATE = 'FAILED' THEN COMPLETED_TIME ELSE NULL END) as last_failed_run,\n        AVG(CASE WHEN STATE = 'SUCCEEDED' THEN TIMESTAMPDIFF(MILLISECOND, QUERY_START_TIME, COMPLETED_TIME) ELSE NULL END) as avg_duration_ms\n    FROM TABLE(INFORMATION_SCHEMA.TASK_HISTORY(\n        SCHEDULED_TIME_RANGE_START=>DATEADD('DAY',-7,CURRENT_TIMESTAMP())))\n    GROUP BY NAME\n),\ndata_stats AS (\n    SELECT\n        'BTC' as crypto_symbol,\n        COUNT(*) as record_count,\n        MIN(timestamp) as earliest_record,\n        MAX(timestamp) as latest_record,\n        DATEDIFF('hour', MAX(timestamp), CURRENT_TIMESTAMP()) as hours_since_last_update\n    FROM CRYPTO_DB.HARMONIZED_CRYPTO.CRYPTO_HARMONIZED\n    WHERE crypto_symbol = 'BTC'\n    UNION ALL\n    SELECT\n        'ETH' as crypto_symbol,\n        COUNT(*) as record_count,\n        MIN(timestamp) as earliest_record,\n        MAX(timestamp) as latest_record,\n        DATEDIFF('hour', MAX(timestamp), CURRENT_TIMESTAMP()) as hours_since_last_update\n    FROM CRYPTO_DB.HARMONIZED_CRYPTO.CRYPTO_HARMONIZED\n    WHERE crypto_symbol = 'ETH'\n    UNION ALL\n    SELECT\n        'DOGE' as crypto_symbol,\n        COUNT(*) as record_count,\n        MIN(timestamp) as earliest_record,\n        MAX(timestamp) as latest_record,\n        DATEDIFF('hour', MAX(timestamp), CURRENT_TIMESTAMP()) as hours_since_last_update\n    FROM CRYPTO_DB.HARMONIZED_CRYPTO.CRYPTO_HARMONIZED\n    WHERE crypto_symbol = 'DOGE'\n)\nSELECT\n    'Task Health' as metric_type,\n    task_name as metric_name,\n    total_runs,\n    successful_runs,\n    failed_runs,\n    ROUND(successful_runs/NULLIF(total_runs,0)*100, 2) as success_rate,\n    last_successful_run,\n    last_failed_run,\n    avg_duration_ms,\n    NULL as record_count,\n    NULL as earliest_record,\n    NULL as latest_record,\n    NULL as hours_since_last_update\nFROM task_stats\nUNION ALL\nSELECT\n    'Data Health' as metric_type,\n    crypto_symbol as metric_name,\n    NULL as total_runs,\n    NULL as successful_runs,\n    NULL as failed_runs,\n    NULL as success_rate,\n    NULL as last_successful_run,\n    NULL as last_failed_run,\n    NULL as avg_duration_ms,\n    record_count,\n    earliest_record,\n    latest_record,\n    hours_since_last_update\nFROM data_stats\nORDER BY metric_type, metric_name;",
   "id": "ce110000-1111-2222-3333-ffffff000019",
   "outputs": []
  },
  {
   "cell_type": "markdown",
   "metadata": {
    "name": "cell21"
   },
   "source": [
    "### Check the Pipeline Health Dashboard"
   ],
   "id": "ce110000-1111-2222-3333-ffffff000020"
  },
  {
   "cell_type": "code",
   "execution_count": null,
   "metadata": {
    "name": "cell22",
    "language": "python",
    "collapsed": false
   },
   "source": [
    "pipeline_health = session.sql(\"SELECT * FROM CRYPTO_DB.ANALYTICS_CRYPTO.PIPELINE_HEALTH_DASHBOARD\")\n",
    "pipeline_health.show()"
   ],
   "id": "ce110000-1111-2222-3333-ffffff000021",
   "outputs": []
  },
  {
   "cell_type": "markdown",
   "metadata": {
    "name": "cell23"
   },
   "source": [
    "## Set Up Alert Notifications\n",
    "\n",
    "Create email alerts that will notify administrators when tasks fail"
   ],
   "id": "ce110000-1111-2222-3333-ffffff000022"
  },
  {
   "cell_type": "code",
   "execution_count": null,
   "metadata": {
    "name": "cell24",
    "language": "sql",
    "collapsed": false
   },
   "source": "\n-- CREATE OR REPLACE NOTIFICATION INTEGRATION crypto_email_integration\n--   TYPE = EMAIL\n--   ENABLED = TRUE;\n\n-- CREATE OR REPLACE ALERT CRYPTO_DB.ANALYTICS_CRYPTO.TASK_FAILURE_ALERT\n--   WAREHOUSE = CRYPTO_WH\n--   SCHEDULE = 'USING CRON 0 */1 * * * UTC'  -- Check every hour\n--   IF (EXISTS (\n--     SELECT 1 \n--     FROM TABLE(INFORMATION_SCHEMA.TASK_HISTORY(\n--       SCHEDULED_TIME_RANGE_START=>DATEADD('HOUR',-1,CURRENT_TIMESTAMP())))\n--     WHERE STATE = 'FAILED'\n--   ))\n--   THEN CALL SYSTEM$SEND_EMAIL(\n--     'crypto_email_integration',\n--     'admin@example.com',\n--     'Crypto Pipeline Task Failure Alert',\n--     'A task in the Crypto data pipeline has failed in the last hour. Please check the task history.'\n--   );\n\n-- -- Resume the alert to activate it\n-- ALTER ALERT CRYPTO_DB.ANALYTICS_CRYPTO.TASK_FAILURE_ALERT RESUME;",
   "id": "ce110000-1111-2222-3333-ffffff000023",
   "outputs": []
  },
  {
   "cell_type": "markdown",
   "metadata": {
    "name": "cell25"
   },
   "source": [
    "## Pipeline Visualization\n",
    "\n",
    "The cryptocurrency data pipeline has the following task dependencies:\n",
    "\n",
    "```\n",
    "LOAD_CRYPTO_TASK (every 4 hours)\n",
    "       |\n",
    "       V\n",
    "HARMONIZE_CRYPTO_TASK (when RAW_CRYPTO_STREAM has data)\n",
    "       |\n",
    "       V\n",
    "UPDATE_CRYPTO_METRICS_TASK (when CRYPTO_HARMONIZED_STREAM has data)\n",
    "```\n",
    "\n",
    "This creates a fully automated workflow that processes data in stages:\n",
    "1. Ingest raw cryptocurrency data\n",
    "2. Transform and harmonize the data\n",
    "3. Calculate analytics and metrics\n",
    "\n",
    "Each step only runs when there is actual new data to process, optimizing resource usage."
   ],
   "id": "ce110000-1111-2222-3333-ffffff000024"
  }
 ]
}