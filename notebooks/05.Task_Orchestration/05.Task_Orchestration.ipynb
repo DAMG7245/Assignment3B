{
 "cells": [
  {
   "cell_type": "markdown",
   "id": "ce110000-1111-2222-3333-ffffff000000",
   "metadata": {
    "name": "cell1"
   },
   "source": [
    "# Cryptocurrency Data Pipeline - Task Orchestration & Automation\n",
    "\n",
    "This notebook implements the task orchestration layer for the cryptocurrency data pipeline, automating the flow from data ingestion through harmonization to analytics."
   ]
  },
  {
   "cell_type": "markdown",
   "id": "ce110000-1111-2222-3333-ffffff000001",
   "metadata": {
    "name": "cell2"
   },
   "source": [
    "## Setup Environment"
   ]
  },
  {
   "cell_type": "code",
   "execution_count": null,
   "id": "21e1d693-f727-4a80-84ba-d620033dd778",
   "metadata": {
    "collapsed": false,
    "language": "python",
    "name": "cell27"
   },
   "outputs": [],
   "source": [
    "from snowflake.snowpark import Session\n",
    "session = Session.builder.getOrCreate()"
   ]
  },
  {
   "cell_type": "code",
   "execution_count": null,
   "id": "ce110000-1111-2222-3333-ffffff000002",
   "metadata": {
    "collapsed": false,
    "language": "sql",
    "name": "cell3"
   },
   "outputs": [],
   "source": [
    "-- %%sql\n",
    "USE ROLE CRYPTO_ROLE;\n",
    "USE WAREHOUSE CRYPTO_WH;\n",
    "USE SCHEMA CRYPTO_DB.HARMONIZED_CRYPTO;"
   ]
  },
  {
   "cell_type": "markdown",
   "id": "ce110000-1111-2222-3333-ffffff000003",
   "metadata": {
    "name": "cell4"
   },
   "source": [
    "## Create Tasks for Pipeline Automation\n",
    "\n",
    "### 1. Data Ingestion Task - Runs every 4 hours to fetch new data"
   ]
  },
  {
   "cell_type": "code",
   "execution_count": null,
   "id": "61dd55ae-696e-4fc9-8880-045343b06933",
   "metadata": {
    "collapsed": false,
    "language": "sql",
    "name": "cell28"
   },
   "outputs": [],
   "source": [
    "CREATE OR REPLACE PROCEDURE CRYPTO_DB.HARMONIZED_CRYPTO.LOAD_CRYPTO_DATA_SP()\n",
    "RETURNS VARIANT\n",
    "LANGUAGE JAVASCRIPT\n",
    "AS\n",
    "$$\n",
    "try {\n",
    "  // S3 configuration \n",
    "  const S3_BUCKET = 'damg7245-crypto';\n",
    "  const S3_PREFIX = 'raw_data/';\n",
    "\n",
    "  // Get AWS credentials from secrets\n",
    "  var stmt = snowflake.createStatement({\n",
    "    sqlText: \"SELECT SECRET$GET_SECRET('CRYPTO_AWS_CREDENTIALS', 'SECRET_STRING')\"\n",
    "  });\n",
    "  var result = stmt.execute();\n",
    "  result.next();\n",
    "  var AWS_CREDS_STRING = result.getColumnValue(1);\n",
    "  var AWS_CREDS = JSON.parse(AWS_CREDS_STRING);\n",
    "  \n",
    "  var AWS_ACCESS_KEY = AWS_CREDS.ACCESS_KEY_ID;\n",
    "  var AWS_SECRET_KEY = AWS_CREDS.SECRET_ACCESS_KEY;\n",
    "  var AWS_REGION = AWS_CREDS.REGION;\n",
    "\n",
    "  // Crypto files to load\n",
    "  const CRYPTO_FILES = [\n",
    "    {file: 'BTC_raw_daily.csv', table: 'BTC'},\n",
    "    {file: 'ETH_raw_daily.csv', table: 'ETH'},\n",
    "    {file: 'DOGE_raw_daily.csv', table: 'DOGE'}\n",
    "  ];\n",
    "\n",
    "  // Create a temporary stage with direct AWS credentials\n",
    "  var createTempStageStmt = snowflake.createStatement({\n",
    "    sqlText: `\n",
    "      CREATE OR REPLACE TEMPORARY STAGE TEMP_CRYPTO_STAGE\n",
    "      URL = 's3://${S3_BUCKET}/${S3_PREFIX}'\n",
    "      CREDENTIALS = (AWS_KEY_ID = '${AWS_ACCESS_KEY}' AWS_SECRET_KEY = '${AWS_SECRET_KEY}')\n",
    "      FILE_FORMAT = (TYPE = CSV, SKIP_HEADER = 1)\n",
    "    `\n",
    "  });\n",
    "  createTempStageStmt.execute();\n",
    "\n",
    "  var results = {\n",
    "    status: 'success',\n",
    "    details: {},\n",
    "    error: null\n",
    "  };\n",
    "  \n",
    "  // Process each cryptocurrency file\n",
    "  for (const crypto of CRYPTO_FILES) {\n",
    "    // Load data from S3 to Snowflake\n",
    "    const tableName = crypto.table;\n",
    "    const fileName = crypto.file;\n",
    "    \n",
    "    // Clear temp table for staging\n",
    "    var createTempTableStmt = snowflake.createStatement({\n",
    "      sqlText: `\n",
    "        CREATE OR REPLACE TEMPORARY TABLE crypto_temp_${tableName} (\n",
    "          date TIMESTAMP,\n",
    "          open FLOAT,\n",
    "          high FLOAT,\n",
    "          low FLOAT,\n",
    "          close FLOAT,\n",
    "          volume FLOAT,\n",
    "          adjclose FLOAT\n",
    "        )\n",
    "      `\n",
    "    });\n",
    "    createTempTableStmt.execute();\n",
    "    \n",
    "    // Copy data from S3 to temp table\n",
    "    var copyStmt = snowflake.createStatement({\n",
    "      sqlText: `\n",
    "        COPY INTO crypto_temp_${tableName}\n",
    "        FROM @TEMP_CRYPTO_STAGE/${fileName}\n",
    "        FILE_FORMAT = (TYPE = CSV, SKIP_HEADER = 1)\n",
    "      `\n",
    "    });\n",
    "    var copyResult = copyStmt.execute();\n",
    "    \n",
    "    // Merge data into target table\n",
    "    var mergeStmt = snowflake.createStatement({\n",
    "      sqlText: `\n",
    "        MERGE INTO CRYPTO_DB.RAW_CRYPTO.${tableName} target\n",
    "        USING crypto_temp_${tableName} source\n",
    "        ON target.date = source.date\n",
    "        WHEN MATCHED THEN\n",
    "          UPDATE SET \n",
    "            target.open = source.open,\n",
    "            target.high = source.high,\n",
    "            target.low = source.low,\n",
    "            target.close = source.close,\n",
    "            target.volume = source.volume,\n",
    "            target.adjclose = source.adjclose\n",
    "        WHEN NOT MATCHED THEN\n",
    "          INSERT (date, open, high, low, close, volume, adjclose)\n",
    "          VALUES (source.date, source.open, source.high, source.low, source.close, source.volume, source.adjclose)\n",
    "      `\n",
    "    });\n",
    "    var mergeResult = mergeStmt.execute();\n",
    "    \n",
    "    // Get counts for reporting\n",
    "    var countStmt = snowflake.createStatement({\n",
    "      sqlText: `SELECT COUNT(*) FROM crypto_temp_${tableName}`\n",
    "    });\n",
    "    var countResult = countStmt.execute();\n",
    "    countResult.next();\n",
    "    var rowCount = countResult.getColumnValue(1);\n",
    "    \n",
    "    // Record results\n",
    "    results.details[tableName] = {\n",
    "      file: fileName,\n",
    "      rows_processed: rowCount,\n",
    "      status: 'success'\n",
    "    };\n",
    "  }\n",
    "  \n",
    "  return results;\n",
    "  \n",
    "} catch (error) {\n",
    "  return {\n",
    "    status: 'error',\n",
    "    message: error.message,\n",
    "    stack: error.stack\n",
    "  };\n",
    "}\n",
    "$$;"
   ]
  },
  {
   "cell_type": "code",
   "execution_count": null,
   "id": "ce110000-1111-2222-3333-ffffff000004",
   "metadata": {
    "collapsed": false,
    "language": "sql",
    "name": "cell5"
   },
   "outputs": [],
   "source": [
    "-- %%sql\n",
    "CREATE OR REPLACE TASK CRYPTO_DB.HARMONIZED_CRYPTO.LOAD_CRYPTO_TASK\n",
    "    WAREHOUSE = CRYPTO_WH\n",
    "    SCHEDULE = 'USING CRON 0 */4 * * * UTC'  -- Run every 4 hours\n",
    "AS\n",
    "CALL CRYPTO_DB.HARMONIZED_CRYPTO.LOAD_CRYPTO_DATA_SP();"
   ]
  },
  {
   "cell_type": "code",
   "execution_count": null,
   "id": "16e9403b-c418-43eb-a798-c006206f6a26",
   "metadata": {
    "collapsed": false,
    "language": "sql",
    "name": "cell29"
   },
   "outputs": [],
   "source": [
    "EXECUTE TASK CRYPTO_DB.HARMONIZED_CRYPTO.LOAD_CRYPTO_TASK;"
   ]
  },
  {
   "cell_type": "code",
   "execution_count": null,
   "id": "5b74df39-34cd-4519-9cc2-b89b20dad520",
   "metadata": {
    "collapsed": false,
    "language": "sql",
    "name": "cell31"
   },
   "outputs": [],
   "source": [
    "SHOW TASKS LIKE 'LOAD_CRYPTO_TASK' IN SCHEMA CRYPTO_DB.HARMONIZED_CRYPTO;"
   ]
  },
  {
   "cell_type": "code",
   "execution_count": null,
   "id": "c5d3f3af-e169-47f4-bc98-9658e1bcc63f",
   "metadata": {
    "language": "sql",
    "name": "cell32"
   },
   "outputs": [],
   "source": [
    "EXECUTE TASK CRYPTO_DB.HARMONIZED_CRYPTO.LOAD_CRYPTO_TASK;"
   ]
  },
  {
   "cell_type": "code",
   "execution_count": null,
   "id": "d1c9601c-ef94-45fe-963f-13ba7b35c2fc",
   "metadata": {
    "language": "sql",
    "name": "cell33"
   },
   "outputs": [],
   "source": [
    "SELECT *\n",
    "FROM TABLE(INFORMATION_SCHEMA.TASK_HISTORY(\n",
    "    SCHEDULED_TIME_RANGE_START=>DATEADD('MINUTE',-10,CURRENT_TIMESTAMP()),\n",
    "    RESULT_LIMIT => 10))\n",
    "WHERE NAME = 'LOAD_CRYPTO_TASK'\n",
    "ORDER BY SCHEDULED_TIME DESC;"
   ]
  },
  {
   "cell_type": "markdown",
   "id": "ce110000-1111-2222-3333-ffffff000005",
   "metadata": {
    "name": "cell6"
   },
   "source": [
    "### 2. Create Task for Data Harmonization - Triggered when new data arrives"
   ]
  },
  {
   "cell_type": "code",
   "execution_count": null,
   "id": "ce110000-1111-2222-3333-ffffff000006",
   "metadata": {
    "collapsed": false,
    "language": "sql",
    "name": "cell7"
   },
   "outputs": [],
   "source": [
    "-- %%sql\n",
    "CREATE OR REPLACE TASK CRYPTO_DB.HARMONIZED_CRYPTO.HARMONIZE_CRYPTO_TASK\n",
    "    WAREHOUSE = CRYPTO_WH\n",
    "    AFTER CRYPTO_DB.HARMONIZED_CRYPTO.LOAD_CRYPTO_TASK\n",
    "    WHEN SYSTEM$STREAM_HAS_DATA('CRYPTO_DB.HARMONIZED_CRYPTO.RAW_CRYPTO_STREAM')\n",
    "AS\n",
    "CALL CRYPTO_DB.HARMONIZED_CRYPTO.HARMONIZE_CRYPTO_DATA_SP();"
   ]
  },
  {
   "cell_type": "markdown",
   "id": "ce110000-1111-2222-3333-ffffff000007",
   "metadata": {
    "name": "cell8"
   },
   "source": [
    "### 3. Create Task to Update Analytics Tables - Runs after harmonization completes"
   ]
  },
  {
   "cell_type": "code",
   "execution_count": null,
   "id": "ce110000-1111-2222-3333-ffffff000008",
   "metadata": {
    "collapsed": false,
    "language": "sql",
    "name": "cell9"
   },
   "outputs": [],
   "source": [
    "USE ROLE CRYPTO_ROLE;\n",
    "CREATE OR REPLACE TASK CRYPTO_DB.HARMONIZED_CRYPTO.UPDATE_CRYPTO_METRICS_TASK\n",
    "    WAREHOUSE = CRYPTO_WH\n",
    "    AFTER CRYPTO_DB.HARMONIZED_CRYPTO.HARMONIZE_CRYPTO_TASK\n",
    "    WHEN SYSTEM$STREAM_HAS_DATA('CRYPTO_DB.HARMONIZED_CRYPTO.CRYPTO_HARMONIZED_STREAM')\n",
    "AS\n",
    "CALL CRYPTO_DB.ANALYTICS_CRYPTO.UPDATE_CRYPTO_ANALYTICS();"
   ]
  },
  {
   "cell_type": "markdown",
   "id": "ce110000-1111-2222-3333-ffffff000009",
   "metadata": {
    "name": "cell10"
   },
   "source": [
    "## Set Up Change Tracking with Streams\n",
    "\n",
    "Streams track changes in tables to trigger downstream processes only when new data exists."
   ]
  },
  {
   "cell_type": "code",
   "execution_count": null,
   "id": "ce110000-1111-2222-3333-ffffff000010",
   "metadata": {
    "collapsed": false,
    "language": "sql",
    "name": "cell11"
   },
   "outputs": [],
   "source": [
    "-- Create a stream on the harmonized data for change tracking\n",
    "USE ROLE CRYPTO_ROLE;\n",
    "CREATE OR REPLACE STREAM CRYPTO_DB.HARMONIZED_CRYPTO.CRYPTO_HARMONIZED_STREAM\n",
    "ON TABLE CRYPTO_DB.HARMONIZED_CRYPTO.CRYPTO_HARMONIZED;"
   ]
  },
  {
   "cell_type": "code",
   "execution_count": null,
   "id": "35408c98-c701-4039-917e-b2f008c01903",
   "metadata": {
    "language": "sql",
    "name": "cell26"
   },
   "outputs": [],
   "source": [
    "SHOW TABLES IN SCHEMA CRYPTO_DB.HARMONIZED_CRYPTO;"
   ]
  },
  {
   "cell_type": "code",
   "execution_count": null,
   "id": "ce110000-1111-2222-3333-ffffff000011",
   "metadata": {
    "collapsed": false,
    "language": "sql",
    "name": "cell12"
   },
   "outputs": [],
   "source": [
    "-- Create stream for BTC (already done)\n",
    "CREATE OR REPLACE STREAM CRYPTO_DB.HARMONIZED_CRYPTO.RAW_CRYPTO_STREAM_BTC\n",
    "ON TABLE CRYPTO_DB.RAW_CRYPTO.BTC;\n",
    "\n",
    "-- Create stream for ETH\n",
    "CREATE OR REPLACE STREAM CRYPTO_DB.HARMONIZED_CRYPTO.RAW_CRYPTO_STREAM_ETH\n",
    "ON TABLE CRYPTO_DB.RAW_CRYPTO.ETH;\n",
    "\n",
    "-- Create stream for DOGE\n",
    "CREATE OR REPLACE STREAM CRYPTO_DB.HARMONIZED_CRYPTO.RAW_CRYPTO_STREAM_DOGE\n",
    "ON TABLE CRYPTO_DB.RAW_CRYPTO.DOGE;"
   ]
  },
  {
   "cell_type": "markdown",
   "id": "ce110000-1111-2222-3333-ffffff000012",
   "metadata": {
    "name": "cell13"
   },
   "source": [
    "## Activate the Automation Pipeline\n",
    "\n",
    "Resume all tasks to start the automation workflow. Tasks are resumed in reverse order of their dependency chain."
   ]
  },
  {
   "cell_type": "code",
   "execution_count": null,
   "id": "ce110000-1111-2222-3333-ffffff000013",
   "metadata": {
    "collapsed": false,
    "language": "sql",
    "name": "cell14"
   },
   "outputs": [],
   "source": [
    "-- %%sql\n",
    "-- %%sql\n",
    "ALTER TASK CRYPTO_DB.HARMONIZED_CRYPTO.UPDATE_CRYPTO_METRICS_TASK RESUME;\n",
    "ALTER TASK CRYPTO_DB.HARMONIZED_CRYPTO.HARMONIZE_CRYPTO_TASK RESUME;\n",
    "ALTER TASK CRYPTO_DB.HARMONIZED_CRYPTO.LOAD_CRYPTO_TASK RESUME;"
   ]
  },
  {
   "cell_type": "markdown",
   "id": "ce110000-1111-2222-3333-ffffff000014",
   "metadata": {
    "name": "cell15"
   },
   "source": [
    "## Task Monitoring and Observability\n",
    "\n",
    "### Check Recent Task Execution History"
   ]
  },
  {
   "cell_type": "code",
   "execution_count": null,
   "id": "ce110000-1111-2222-3333-ffffff000015",
   "metadata": {
    "collapsed": false,
    "language": "python",
    "name": "cell16"
   },
   "outputs": [],
   "source": [
    "task_history = session.sql(\"\"\"\n",
    "SELECT *\n",
    "FROM TABLE(INFORMATION_SCHEMA.TASK_HISTORY(\n",
    "    SCHEDULED_TIME_RANGE_START=>DATEADD('DAY',-1,CURRENT_TIMESTAMP()),\n",
    "    RESULT_LIMIT => 100))\n",
    "ORDER BY SCHEDULED_TIME DESC\n",
    "\"\"\")\n",
    "\n",
    "task_history.show()"
   ]
  },
  {
   "cell_type": "markdown",
   "id": "ce110000-1111-2222-3333-ffffff000016",
   "metadata": {
    "name": "cell17"
   },
   "source": [
    "### View Task Dependency Graph"
   ]
  },
  {
   "cell_type": "code",
   "execution_count": null,
   "id": "ce110000-1111-2222-3333-ffffff000017",
   "metadata": {
    "collapsed": false,
    "language": "sql",
    "name": "cell18"
   },
   "outputs": [],
   "source": [
    "\n",
    "SELECT *\n",
    "FROM TABLE(INFORMATION_SCHEMA.CURRENT_TASK_GRAPHS())\n",
    "ORDER BY SCHEDULED_TIME;"
   ]
  },
  {
   "cell_type": "markdown",
   "id": "ce110000-1111-2222-3333-ffffff000018",
   "metadata": {
    "name": "cell19"
   },
   "source": [
    "## Create Pipeline Health Dashboard\n",
    "\n",
    "This dashboard view provides insights into both task performance and data freshness"
   ]
  },
  {
   "cell_type": "code",
   "execution_count": null,
   "id": "ce110000-1111-2222-3333-ffffff000019",
   "metadata": {
    "collapsed": false,
    "language": "sql",
    "name": "cell20"
   },
   "outputs": [],
   "source": [
    "\n",
    "CREATE OR REPLACE VIEW CRYPTO_DB.ANALYTICS_CRYPTO.PIPELINE_HEALTH_DASHBOARD AS\n",
    "WITH task_stats AS (\n",
    "    SELECT\n",
    "        NAME as task_name,\n",
    "        COUNT(*) as total_runs,\n",
    "        SUM(CASE WHEN STATE = 'SUCCEEDED' THEN 1 ELSE 0 END) as successful_runs,\n",
    "        SUM(CASE WHEN STATE = 'FAILED' THEN 1 ELSE 0 END) as failed_runs,\n",
    "        MAX(CASE WHEN STATE = 'SUCCEEDED' THEN COMPLETED_TIME ELSE NULL END) as last_successful_run,\n",
    "        MAX(CASE WHEN STATE = 'FAILED' THEN COMPLETED_TIME ELSE NULL END) as last_failed_run,\n",
    "        AVG(CASE WHEN STATE = 'SUCCEEDED' THEN TIMESTAMPDIFF(MILLISECOND, QUERY_START_TIME, COMPLETED_TIME) ELSE NULL END) as avg_duration_ms\n",
    "    FROM TABLE(INFORMATION_SCHEMA.TASK_HISTORY(\n",
    "        SCHEDULED_TIME_RANGE_START=>DATEADD('DAY',-7,CURRENT_TIMESTAMP())))\n",
    "    GROUP BY NAME\n",
    "),\n",
    "data_stats AS (\n",
    "    SELECT\n",
    "        'BTC' as crypto_symbol,\n",
    "        COUNT(*) as record_count,\n",
    "        MIN(timestamp) as earliest_record,\n",
    "        MAX(timestamp) as latest_record,\n",
    "        DATEDIFF('hour', MAX(timestamp), CURRENT_TIMESTAMP()) as hours_since_last_update\n",
    "    FROM CRYPTO_DB.HARMONIZED_CRYPTO.CRYPTO_HARMONIZED\n",
    "    WHERE crypto_symbol = 'BTC'\n",
    "    UNION ALL\n",
    "    SELECT\n",
    "        'ETH' as crypto_symbol,\n",
    "        COUNT(*) as record_count,\n",
    "        MIN(timestamp) as earliest_record,\n",
    "        MAX(timestamp) as latest_record,\n",
    "        DATEDIFF('hour', MAX(timestamp), CURRENT_TIMESTAMP()) as hours_since_last_update\n",
    "    FROM CRYPTO_DB.HARMONIZED_CRYPTO.CRYPTO_HARMONIZED\n",
    "    WHERE crypto_symbol = 'ETH'\n",
    "    UNION ALL\n",
    "    SELECT\n",
    "        'DOGE' as crypto_symbol,\n",
    "        COUNT(*) as record_count,\n",
    "        MIN(timestamp) as earliest_record,\n",
    "        MAX(timestamp) as latest_record,\n",
    "        DATEDIFF('hour', MAX(timestamp), CURRENT_TIMESTAMP()) as hours_since_last_update\n",
    "    FROM CRYPTO_DB.HARMONIZED_CRYPTO.CRYPTO_HARMONIZED\n",
    "    WHERE crypto_symbol = 'DOGE'\n",
    ")\n",
    "SELECT\n",
    "    'Task Health' as metric_type,\n",
    "    task_name as metric_name,\n",
    "    total_runs,\n",
    "    successful_runs,\n",
    "    failed_runs,\n",
    "    ROUND(successful_runs/NULLIF(total_runs,0)*100, 2) as success_rate,\n",
    "    last_successful_run,\n",
    "    last_failed_run,\n",
    "    avg_duration_ms,\n",
    "    NULL as record_count,\n",
    "    NULL as earliest_record,\n",
    "    NULL as latest_record,\n",
    "    NULL as hours_since_last_update\n",
    "FROM task_stats\n",
    "UNION ALL\n",
    "SELECT\n",
    "    'Data Health' as metric_type,\n",
    "    crypto_symbol as metric_name,\n",
    "    NULL as total_runs,\n",
    "    NULL as successful_runs,\n",
    "    NULL as failed_runs,\n",
    "    NULL as success_rate,\n",
    "    NULL as last_successful_run,\n",
    "    NULL as last_failed_run,\n",
    "    NULL as avg_duration_ms,\n",
    "    record_count,\n",
    "    earliest_record,\n",
    "    latest_record,\n",
    "    hours_since_last_update\n",
    "FROM data_stats\n",
    "ORDER BY metric_type, metric_name;"
   ]
  },
  {
   "cell_type": "markdown",
   "id": "ce110000-1111-2222-3333-ffffff000020",
   "metadata": {
    "name": "cell21"
   },
   "source": [
    "### Check the Pipeline Health Dashboard"
   ]
  },
  {
   "cell_type": "code",
   "execution_count": null,
   "id": "ce110000-1111-2222-3333-ffffff000021",
   "metadata": {
    "collapsed": false,
    "language": "python",
    "name": "cell22"
   },
   "outputs": [],
   "source": [
    "pipeline_health = session.sql(\"SELECT * FROM CRYPTO_DB.ANALYTICS_CRYPTO.PIPELINE_HEALTH_DASHBOARD\")\n",
    "pipeline_health.show()"
   ]
  },
  {
   "cell_type": "markdown",
   "id": "ce110000-1111-2222-3333-ffffff000022",
   "metadata": {
    "name": "cell23"
   },
   "source": [
    "## Set Up Alert Notifications\n",
    "\n",
    "Create email alerts that will notify administrators when tasks fail"
   ]
  },
  {
   "cell_type": "code",
   "execution_count": null,
   "id": "ce110000-1111-2222-3333-ffffff000023",
   "metadata": {
    "collapsed": false,
    "language": "sql",
    "name": "cell24"
   },
   "outputs": [],
   "source": [
    "\n",
    "-- CREATE OR REPLACE NOTIFICATION INTEGRATION crypto_email_integration\n",
    "--   TYPE = EMAIL\n",
    "--   ENABLED = TRUE;\n",
    "\n",
    "-- CREATE OR REPLACE ALERT CRYPTO_DB.ANALYTICS_CRYPTO.TASK_FAILURE_ALERT\n",
    "--   WAREHOUSE = CRYPTO_WH\n",
    "--   SCHEDULE = 'USING CRON 0 */1 * * * UTC'  -- Check every hour\n",
    "--   IF (EXISTS (\n",
    "--     SELECT 1 \n",
    "--     FROM TABLE(INFORMATION_SCHEMA.TASK_HISTORY(\n",
    "--       SCHEDULED_TIME_RANGE_START=>DATEADD('HOUR',-1,CURRENT_TIMESTAMP())))\n",
    "--     WHERE STATE = 'FAILED'\n",
    "--   ))\n",
    "--   THEN CALL SYSTEM$SEND_EMAIL(\n",
    "--     'crypto_email_integration',\n",
    "--     'admin@example.com',\n",
    "--     'Crypto Pipeline Task Failure Alert',\n",
    "--     'A task in the Crypto data pipeline has failed in the last hour. Please check the task history.'\n",
    "--   );\n",
    "\n",
    "-- -- Resume the alert to activate it\n",
    "-- ALTER ALERT CRYPTO_DB.ANALYTICS_CRYPTO.TASK_FAILURE_ALERT RESUME;"
   ]
  },
  {
   "cell_type": "markdown",
   "id": "ce110000-1111-2222-3333-ffffff000024",
   "metadata": {
    "name": "cell25"
   },
   "source": [
    "## Pipeline Visualization\n",
    "\n",
    "The cryptocurrency data pipeline has the following task dependencies:\n",
    "\n",
    "```\n",
    "LOAD_CRYPTO_TASK (every 4 hours)\n",
    "       |\n",
    "       V\n",
    "HARMONIZE_CRYPTO_TASK (when RAW_CRYPTO_STREAM has data)\n",
    "       |\n",
    "       V\n",
    "UPDATE_CRYPTO_METRICS_TASK (when CRYPTO_HARMONIZED_STREAM has data)\n",
    "```\n",
    "\n",
    "This creates a fully automated workflow that processes data in stages:\n",
    "1. Ingest raw cryptocurrency data\n",
    "2. Transform and harmonize the data\n",
    "3. Calculate analytics and metrics\n",
    "\n",
    "Each step only runs when there is actual new data to process, optimizing resource usage."
   ]
  }
 ],
 "metadata": {
  "kernelspec": {
   "display_name": "Snowpark",
   "language": "python",
   "name": "snowpark"
  },
  "language_info": {
   "codemirror_mode": {
    "name": "ipython",
    "version": 3
   },
   "file_extension": ".py",
   "mimetype": "text/x-python",
   "name": "python",
   "nbconvert_exporter": "python",
   "pygments_lexer": "ipython3",
   "version": "3.8.15"
  },
  "lastEditStatus": {
   "authorEmail": "prasanna.vi@northeastern.edu",
   "authorId": "726488193010",
   "authorName": "VISHALPRASANNA11",
   "lastEditTime": 1740850695084,
   "notebookId": "3gu27s6nem7w4sxvxqu4",
   "sessionId": "7bf52a02-4542-46a7-9989-3efd5ec014d1"
  }
 },
 "nbformat": 4,
 "nbformat_minor": 4
}
