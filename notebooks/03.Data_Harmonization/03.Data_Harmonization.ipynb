{
 "metadata": {
  "language_info": {
   "name": "python"
  },
  "lastEditStatus": {
   "notebookId": "p77uykm77yk4i26yucyv",
   "authorId": "726488193010",
   "authorName": "VISHALPRASANNA11",
   "authorEmail": "prasanna.vi@northeastern.edu",
   "sessionId": "fb376d7c-a712-4ccd-92cb-c45eec3cbdd2",
   "lastEditTime": 1740721341301
  }
 },
 "nbformat_minor": 2,
 "nbformat": 4,
 "cells": [
  {
   "cell_type": "code",
   "execution_count": null,
   "metadata": {
    "name": "cell1",
    "language": "python",
    "collapsed": false
   },
   "outputs": [],
   "source": "# Cell 1: Import necessary libraries\nimport snowflake.snowpark.functions as F\nimport snowflake.snowpark.types as T\nfrom snowflake.snowpark import Session",
   "id": "ce110000-1111-2222-3333-ffffff000000"
  },
  {
   "cell_type": "code",
   "execution_count": null,
   "metadata": {
    "name": "cell2",
    "language": "sql",
    "collapsed": false
   },
   "outputs": [],
   "source": "-- # Cell 2: No need for connection setup in Snowflake notebooks\n-- # session is already available\n\n-- # Cell 3: Create schema for harmonized data\nCREATE SCHEMA IF NOT EXISTS CRYPTO_DB.HARMONIZED_CRYPTO;",
   "id": "ce110000-1111-2222-3333-ffffff000001"
  },
  {
   "cell_type": "code",
   "execution_count": null,
   "metadata": {
    "name": "cell3",
    "language": "sql",
    "collapsed": false
   },
   "outputs": [],
   "source": "\nCREATE OR REPLACE TABLE CRYPTO_DB.HARMONIZED_CRYPTO.CRYPTO_HARMONIZED (\n    crypto_symbol VARCHAR(10),\n    timestamp TIMESTAMP_NTZ,\n    date_day DATE,\n    open FLOAT,\n    high FLOAT,\n    low FLOAT,\n    close FLOAT,\n    volume FLOAT,\n    adj_close FLOAT,\n    price_change_24h FLOAT,\n    price_change_percentage_24h FLOAT,\n    volatility_7d FLOAT,\n    normalized_price FLOAT,\n    PRIMARY KEY (crypto_symbol, timestamp)\n);",
   "id": "ce110000-1111-2222-3333-ffffff000002"
  },
  {
   "cell_type": "code",
   "execution_count": null,
   "metadata": {
    "name": "cell4",
    "language": "python",
    "collapsed": false
   },
   "outputs": [],
   "source": "# Cell 5: Transform and harmonize Yahoo Finance crypto data\ndef transform_yahoo_finance_data(session = None):\n    if session is None:\n        from snowflake.snowpark import Session\n        session = Session.builder.getOrCreate()\n    \n    import snowflake.snowpark.functions as F\n    import snowflake.snowpark.types as T\n    \n    # Create references to raw tables\n    btc = session.table(\"CRYPTO_DB.RAW_CRYPTO.BTC\")\n    eth = session.table(\"CRYPTO_DB.RAW_CRYPTO.ETH\")\n    doge = session.table(\"CRYPTO_DB.RAW_CRYPTO.DOGE\")\n    \n    # Function to standardize each cryptocurrency dataframe\n    def standardize_crypto_df(df, symbol):\n        return df.withColumn(\"crypto_symbol\", F.lit(symbol)) \\\n                .withColumn(\"date_day\", F.to_date(F.col('\"date\"'))) \\\n                .withColumn(\"price_change_24h\", F.col('\"close\"') - F.col('\"open\"')) \\\n                .withColumn(\"price_change_percentage_24h\", \n                            (F.col('\"close\"') - F.col('\"open\"')) / F.col('\"open\"') * 100)\n    \n    # Standardize each dataframe\n    btc_std = standardize_crypto_df(btc, \"BTC\")\n    eth_std = standardize_crypto_df(eth, \"ETH\")\n    doge_std = standardize_crypto_df(doge, \"DOGE\")\n    \n    # Union all data into a single DataFrame\n    all_crypto = btc_std.unionAll(eth_std).unionAll(doge_std)\n    \n    # Standardize column names and structure\n    harmonized = all_crypto.select(\n        F.col(\"crypto_symbol\"),\n        F.col('\"date\"').alias(\"timestamp\"),\n        F.col(\"date_day\"),\n        F.col('\"open\"').alias(\"open\"),\n        F.col('\"high\"').alias(\"high\"),\n        F.col('\"low\"').alias(\"low\"),\n        F.col('\"close\"').alias(\"close\"),\n        F.col('\"volume\"').alias(\"volume\"),\n        F.col('\"adjclose\"').alias(\"adj_close\"),\n        F.col(\"price_change_24h\"),\n        F.col(\"price_change_percentage_24h\")\n    )\n    \n    # Remove duplicates\n    harmonized = harmonized.dropDuplicates([\"crypto_symbol\", \"timestamp\"])\n    \n    # Add the missing columns that match the table schema\n    harmonized = harmonized.withColumn(\"volatility_7d\", F.lit(None).cast(T.FloatType())) \\\n                          .withColumn(\"normalized_price\", F.lit(None).cast(T.FloatType()))\n    \n    return harmonized",
   "id": "ce110000-1111-2222-3333-ffffff000003"
  },
  {
   "cell_type": "code",
   "execution_count": null,
   "metadata": {
    "name": "cell5",
    "language": "sql",
    "collapsed": false
   },
   "outputs": [],
   "source": "-- # Cell 6: Create SQL UDF for normalizing currency exchange rates\n-- %%sql\nCREATE OR REPLACE FUNCTION CRYPTO_DB.HARMONIZED_CRYPTO.NORMALIZE_CURRENCY(price FLOAT, from_currency VARCHAR, to_currency VARCHAR)\nRETURNS FLOAT\nAS\n$$\n    CASE \n        WHEN from_currency = to_currency THEN price\n        WHEN from_currency = 'USD' AND to_currency = 'EUR' THEN price * 0.92\n        WHEN from_currency = 'USD' AND to_currency = 'JPY' THEN price * 110.5\n        ELSE price\n    END\n$$;",
   "id": "ce110000-1111-2222-3333-ffffff000004"
  },
  {
   "cell_type": "code",
   "execution_count": null,
   "metadata": {
    "name": "cell6",
    "language": "sql",
    "collapsed": false
   },
   "outputs": [],
   "source": "CREATE OR REPLACE FUNCTION CRYPTO_DB.HARMONIZED_CRYPTO.CALCULATE_VOLATILITY(prices ARRAY)\nRETURNS FLOAT\nLANGUAGE PYTHON\nRUNTIME_VERSION = '3.8'\nHANDLER = 'calculate_volatility'\nAS\n$$\nimport math\n\ndef calculate_volatility(prices):\n    if not prices or len(prices) < 2:\n        return None\n    \n    # Calculate daily returns manually\n    daily_returns = []\n    for i in range(1, len(prices)):\n        if prices[i-1] != 0:  # Avoid division by zero\n            daily_return = (prices[i] - prices[i-1]) / prices[i-1]\n            daily_returns.append(daily_return)\n    \n    if not daily_returns:\n        return None\n    \n    # Calculate mean\n    mean = sum(daily_returns) / len(daily_returns)\n    \n    # Calculate variance\n    variance = sum((x - mean) ** 2 for x in daily_returns) / len(daily_returns)\n    \n    # Calculate standard deviation\n    std_dev = math.sqrt(variance)\n    \n    # Annualize (assuming 252 trading days)\n    volatility = std_dev * math.sqrt(252)\n    \n    return float(volatility)\n$$;",
   "id": "ce110000-1111-2222-3333-ffffff000005"
  },
  {
   "cell_type": "code",
   "execution_count": null,
   "metadata": {
    "name": "cell7",
    "language": "sql",
    "collapsed": false
   },
   "outputs": [],
   "source": "CREATE OR REPLACE PROCEDURE CRYPTO_DB.HARMONIZED_CRYPTO.UPDATE_VOLATILITY_METRICS()\nRETURNS STRING\nLANGUAGE SQL\nAS\n$$\nBEGIN\n    -- Create a temporary table with calculated volatility\n    CREATE OR REPLACE TEMPORARY TABLE temp_volatility AS\n    SELECT \n        t1.crypto_symbol,\n        t1.timestamp,\n        CRYPTO_DB.HARMONIZED_CRYPTO.CALCULATE_VOLATILITY(\n            ARRAY_AGG(t2.close) WITHIN GROUP (ORDER BY t2.timestamp)\n        ) AS calc_volatility\n    FROM \n        CRYPTO_DB.HARMONIZED_CRYPTO.CRYPTO_HARMONIZED t1\n    JOIN \n        CRYPTO_DB.HARMONIZED_CRYPTO.CRYPTO_HARMONIZED t2\n    ON \n        t1.crypto_symbol = t2.crypto_symbol\n        AND t2.timestamp BETWEEN DATEADD(day, -7, t1.timestamp) AND t1.timestamp\n    GROUP BY \n        t1.crypto_symbol, t1.timestamp\n    HAVING \n        COUNT(*) >= 2;\n    \n    -- Update volatility using the temporary table\n    UPDATE CRYPTO_DB.HARMONIZED_CRYPTO.CRYPTO_HARMONIZED h\n    SET volatility_7d = t.calc_volatility\n    FROM temp_volatility t\n    WHERE h.crypto_symbol = t.crypto_symbol\n    AND h.timestamp = t.timestamp;\n    \n    -- Set normalized_price to equal the close price (since all data is already in USD)\n    UPDATE CRYPTO_DB.HARMONIZED_CRYPTO.CRYPTO_HARMONIZED\n    SET normalized_price = close;\n    \n    -- Drop the temporary table\n    DROP TABLE IF EXISTS temp_volatility;\n    \n    RETURN 'Volatility metrics and normalized prices updated successfully';\nEND;\n$$;",
   "id": "ce110000-1111-2222-3333-ffffff000006"
  },
  {
   "cell_type": "code",
   "execution_count": null,
   "metadata": {
    "name": "cell8",
    "language": "python",
    "collapsed": false
   },
   "outputs": [],
   "source": "# Cell 9: Example of executing the harmonization process\n# Note: This would need real data in your raw tables to work\ntry:\n    # Get a Snowpark session\n    from snowflake.snowpark import Session\n    session = Session.builder.getOrCreate()\n    \n    # Transform data\n    print(\"Beginning data transformation...\")\n    harmonized_df = transform_yahoo_finance_data()\n    \n    # Save to harmonized table\n    print(\"Saving to harmonized table...\")\n    harmonized_df.write.mode(\"overwrite\").saveAsTable(\"CRYPTO_DB.HARMONIZED_CRYPTO.CRYPTO_HARMONIZED\")\n    \n    # Update metrics\n    print(\"Updating volatility metrics...\")\n    session.sql(\"CALL CRYPTO_DB.HARMONIZED_CRYPTO.UPDATE_VOLATILITY_METRICS()\").collect()\n    \n    print(\"Data harmonization complete!\")\nexcept Exception as e:\n    print(f\"Error during harmonization: {str(e)}\")\n    print(\"Please ensure your raw tables exist and contain the expected columns.\")",
   "id": "ce110000-1111-2222-3333-ffffff000007"
  },
  {
   "cell_type": "code",
   "id": "d9da3878-3bd8-4b2c-bc0c-b7d76bee5e65",
   "metadata": {
    "language": "sql",
    "name": "cell9",
    "collapsed": false
   },
   "outputs": [],
   "source": "-- Refrence---\nSELECT *\nFROM CRYPTO_DB.HARMONIZED_CRYPTO.CRYPTO_HARMONIZED\nWHERE DATE_DAY = '2024-02-05'\nORDER BY CRYPTO_SYMBOL;",
   "execution_count": null
  }
 ]
}